{
 "cells": [
  {
   "cell_type": "markdown",
   "metadata": {},
   "source": [
    "# ex05\n",
    "##### - Nakada Ryumei"
   ]
  },
  {
   "cell_type": "code",
   "execution_count": 7,
   "metadata": {
    "collapsed": false
   },
   "outputs": [
    {
     "name": "stderr",
     "output_type": "stream",
     "text": [
      "\n",
      "WARNING: deprecated syntax \"call(a::LinearInterpolation, ...)\".\n",
      "Use \"(a::LinearInterpolation)(...)\" instead.\n",
      "WARNING: Method definition (::Type{Main.GrowthModel})(Function, Float64, Function, Int64, Int64, Base.LinSpace{Float64}) in module Main at In[5]:2 overwritten at In[7]:45.\n",
      "WARNING: Method definition (::Type{Main.GrowthModel})(Any, Any, Any, Any, Any, Any) in module Main at In[5]:2 overwritten at In[7]:45.\n"
     ]
    },
    {
     "data": {
      "text/plain": [
       "get_greedy (generic function with 1 method)"
      ]
     },
     "execution_count": 7,
     "metadata": {},
     "output_type": "execute_result"
    }
   ],
   "source": [
    "#=\n",
    "Solving the optimal growth problem via value function iteration.\n",
    "\n",
    "@author : Spencer Lyon <spencer.lyon@nyu.edu>\n",
    "\n",
    "@date : 2014-07-05\n",
    "\n",
    "References\n",
    "----------\n",
    "\n",
    "Simple port of the file quantecon.models.optgrowth\n",
    "\n",
    "http://quant-econ.net/jl/dp_intro.html\n",
    "=#\n",
    "\n",
    "#=\n",
    "    This type defines the primitives representing the growth model. The\n",
    "    default values are\n",
    "\n",
    "        f(k) = k**alpha, i.e, Cobb-Douglas production function\n",
    "        u(c) = ln(c), i.e, log utility\n",
    "\n",
    "    See the constructor below for details\n",
    "=#\n",
    "                \n",
    "include(\"MyLinInterp.jl\")\n",
    "using Optim\n",
    "using Colors\n",
    "using Plots\n",
    "\n",
    "\"\"\"\n",
    "Neoclassical growth model\n",
    "\n",
    "##### Fields\n",
    "\n",
    "- `f::Function` : Production function\n",
    "- `bet::Real` : Discount factor in (0, 1)\n",
    "- `u::Function` : Utility function\n",
    "- `grid_max::Int` : Maximum for grid over savings values\n",
    "- `grid_size::Int` : Number of points in grid for savings values\n",
    "- `grid::LinSpace{Float64}` : The grid for savings values\n",
    "\n",
    "\"\"\"\n",
    "type GrowthModel\n",
    "    f::Function\n",
    "    bet::Float64\n",
    "    u::Function\n",
    "    grid_max::Int\n",
    "    grid_size::Int\n",
    "    grid::LinSpace{Float64}\n",
    "end\n",
    "\n",
    "\n",
    "default_f(k) = k^0.65\n",
    "default_u(c) = log(c)\n",
    "\n",
    "\"\"\"\n",
    "Constructor of `GrowthModel`\n",
    "\n",
    "##### Arguments\n",
    "\n",
    "- `f::Function(k->k^0.65)` : Production function\n",
    "- `bet::Real(0.95)` : Discount factor in (0, 1)\n",
    "- `u::Function(log)` : Utility function\n",
    "- `grid_max::Int(2)` : Maximum for grid over savings values\n",
    "- `grid_size::Int(150)` : Number of points in grid for savings values\n",
    "\n",
    "\"\"\"\n",
    "function GrowthModel(f=default_f, bet=0.95, u=default_u, grid_max=2, grid_size=150)\n",
    "    grid = linspace(1e-6, grid_max, grid_size)\n",
    "    return GrowthModel(f, bet, u, grid_max, grid_size, grid)\n",
    "end\n",
    "\n",
    "\"\"\"\n",
    "Apply the Bellman operator for a given model and initial value.\n",
    "\n",
    "##### Arguments\n",
    "\n",
    "- `g::GrowthModel` : Instance of `GrowthModel`\n",
    "- `w::Vector`: Current guess for the value function\n",
    "- `out::Vector` : Storage for output.\n",
    "- `;ret_policy::Bool(false)`: Toggles return of value or policy functions\n",
    "\n",
    "##### Returns\n",
    "\n",
    "None, `out` is updated in place. If `ret_policy == true` out is filled with the\n",
    "policy function, otherwise the value function is stored in `out`.\n",
    "\n",
    "\"\"\"\n",
    "function bellman_operator!(g::GrowthModel, w::Vector, out::Vector; ret_policy::Bool=false)\n",
    "    # Apply linear interpolation to w\n",
    "    Aw = MyLinInterp.LinearInterpolation(g.grid, w) \n",
    "\n",
    "    for (i, k) in enumerate(g.grid)\n",
    "        objective(c) = - g.u(c) - g.bet * Aw(g.f(k) - c)\n",
    "        res = optimize(objective, 1e-6, g.f(k))\n",
    "        c_star = res.minimum\n",
    "\n",
    "        if ret_policy\n",
    "            # set the policy equal to the optimal c\n",
    "            out[i] = c_star\n",
    "        else\n",
    "            # set Tw[i] equal to max_c { u(c) + beta w(f(k_i) - c)}\n",
    "            out[i] = - objective(c_star)\n",
    "        end\n",
    "    end\n",
    "\n",
    "    return out\n",
    "end\n",
    "\n",
    "function bellman_operator(g::GrowthModel, w::Vector; ret_policy::Bool=false)\n",
    "    out = similar(w)\n",
    "    bellman_operator!(g, w, out, ret_policy=ret_policy)\n",
    "end\n",
    "\n",
    "\"\"\"\n",
    "Extract the greedy policy (policy function) of the model.\n",
    "\n",
    "##### Arguments\n",
    "\n",
    "- `g::GrowthModel` : Instance of `GrowthModel`\n",
    "- `w::Vector`: Current guess for the value function\n",
    "- `out::Vector` : Storage for output\n",
    "\n",
    "##### Returns\n",
    "\n",
    "None, `out` is updated in place to hold the policy function\n",
    "\n",
    "\"\"\"\n",
    "function get_greedy!(g::GrowthModel, w::Vector, out::Vector)\n",
    "    bellman_operator!(g, w, out, ret_policy=true)\n",
    "end\n",
    "\n",
    "get_greedy(g::GrowthModel, w::Vector) = bellman_operator(g, w, ret_policy=true)"
   ]
  },
  {
   "cell_type": "code",
   "execution_count": 8,
   "metadata": {
    "collapsed": false
   },
   "outputs": [
    {
     "data": {
      "text/plain": [
       "compute_fixed_point"
      ]
     },
     "execution_count": 8,
     "metadata": {},
     "output_type": "execute_result"
    }
   ],
   "source": [
    "#=\n",
    "Compute the fixed point of a given operator T, starting from\n",
    "specified initial condition v.\n",
    "\n",
    "@author : Spencer Lyon <spencer.lyon@nyu.edu>\n",
    "\n",
    "@date: 2014-07-05\n",
    "\n",
    "References\n",
    "----------\n",
    "\n",
    "http://quant-econ.net/jl/dp_intro.html\n",
    "=#\n",
    "\n",
    "\n",
    "\"\"\"\n",
    "Repeatedly apply a function to search for a fixed point\n",
    "\n",
    "Approximates `T^∞ v`, where `T` is an operator (function) and `v` is an initial\n",
    "guess for the fixed point. Will terminate either when `T^{k+1}(v) - T^k v <\n",
    "err_tol` or `max_iter` iterations has been exceeded.\n",
    "\n",
    "Provided that `T` is a contraction mapping or similar,  the return value will\n",
    "be an approximation to the fixed point of `T`.\n",
    "\n",
    "##### Arguments\n",
    "\n",
    "* `T`: A function representing the operator `T`\n",
    "* `v::TV`: The initial condition. An object of type `TV`\n",
    "* `;err_tol(1e-3)`: Stopping tolerance for iterations\n",
    "* `;max_iter(50)`: Maximum number of iterations\n",
    "* `;verbose(2)`: Level of feedback (0 for no output, 1 for warnings only, 2\n",
    "        for warning and convergence messages during iteration)\n",
    "* `;print_skip(10)` : if `verbose == 2`, how many iterations to apply between\n",
    "        print messages\n",
    "\n",
    "##### Returns\n",
    "---\n",
    "\n",
    "* '::TV': The fixed point of the operator `T`. Has type `TV`\n",
    "\n",
    "##### Example\n",
    "\n",
    "```julia\n",
    "using QuantEcon\n",
    "T(x, μ) = 4.0 * μ * x * (1.0 - x)\n",
    "x_star = compute_fixed_point(x->T(x, 0.3), 0.4)  # (4μ - 1)/(4μ)\n",
    "```\n",
    "\n",
    "\"\"\"\n",
    "function compute_fixed_point{TV}(T::Function, \n",
    "                                v::TV; \n",
    "                                err_tol=1e-4,\n",
    "                                max_iter=100, \n",
    "                                verbose=2, \n",
    "                                print_skip=10)\n",
    "\n",
    "    if !(verbose in (0, 1, 2))\n",
    "        throw(ArgumentError(\"verbose should be 0, 1 or 2\"))\n",
    "    end\n",
    "\n",
    "    iterate = 0\n",
    "    err = err_tol + 1\n",
    "    while iterate < max_iter && err > err_tol\n",
    "        new_v = T(v)::TV\n",
    "        iterate += 1\n",
    "        err = Base.maxabs(new_v - v)\n",
    "        if verbose == 2\n",
    "            if iterate % print_skip == 0\n",
    "                println(\"Compute iterate $iterate with error $err\")\n",
    "            end\n",
    "        end\n",
    "        v = new_v\n",
    "    end\n",
    "\n",
    "    if verbose >= 1\n",
    "        if iterate == max_iter\n",
    "            warn(\"max_iter attained in compute_fixed_point\")\n",
    "        elseif verbose == 2\n",
    "            println(\"Converged in $iterate steps\")\n",
    "        end\n",
    "    end\n",
    "\n",
    "    return v\n",
    "end"
   ]
  },
  {
   "cell_type": "code",
   "execution_count": 9,
   "metadata": {
    "collapsed": false
   },
   "outputs": [
    {
     "data": {
      "text/plain": [
       "main (generic function with 2 methods)"
      ]
     },
     "execution_count": 9,
     "metadata": {},
     "output_type": "execute_result"
    }
   ],
   "source": [
    "function main(gm, n::Int=35; show_fig = true)\n",
    "    w_init = 5 .* log(gm.grid) .- 25  # An initial condition -- fairly arbitrary\n",
    "    w = copy(w_init)\n",
    "    \n",
    "    ws = Array(Array, n)\n",
    "    colors = Array(RGBA, 1, n)\n",
    "    for i in 1:n\n",
    "        w = bellman_operator(gm, w)\n",
    "        ws[i] = w\n",
    "        colors[i] = RGBA(i/n, 1-i/n, i/n, 1)\n",
    "    end\n",
    "\n",
    "    alpha = 0.65\n",
    "    ab = alpha * gm.bet\n",
    "    c1 = (log(1 - ab) + log(ab) * ab / (1 - ab)) / (1 - gm.bet)\n",
    "    c2 = alpha / (1 - ab)\n",
    "    v_star(k) = c1 .+ c2 .* log(k)\n",
    "\n",
    "    if show_fig\n",
    "        p = plot(gm.grid, w_init, color=:green, linewidth=2, alpha=0.6, label=\"initial condition\")\n",
    "        plot!(gm.grid, ws, color=colors, label=\"\", linewidth=2)\n",
    "        plot!(gm.grid, v_star(gm.grid), color=:blue, linewidth=2, alpha=0.8, label=\"true value function\")\n",
    "        plot!(ylims=(-40, -20), xlims=(minimum(gm.grid), maximum(gm.grid)))\n",
    "\n",
    "        return p\n",
    "    else\n",
    "        return w\n",
    "    end\n",
    "end"
   ]
  },
  {
   "cell_type": "code",
   "execution_count": 10,
   "metadata": {
    "collapsed": false
   },
   "outputs": [
    {
     "data": {
      "text/plain": [
       "GrowthModel(default_f,0.95,default_u,2,150,linspace(1.0e-6,2.0,150))"
      ]
     },
     "execution_count": 10,
     "metadata": {},
     "output_type": "execute_result"
    }
   ],
   "source": [
    "gm = GrowthModel()"
   ]
  },
  {
   "cell_type": "markdown",
   "metadata": {},
   "source": [
    "### 第一の図"
   ]
  },
  {
   "cell_type": "code",
   "execution_count": 11,
   "metadata": {
    "collapsed": false
   },
   "outputs": [
    {
     "name": "stderr",
     "output_type": "stream",
     "text": [
      "WARNING: both Plots and PlotlyJS export \"plot\"; uses of it in module Main must be qualified\n"
     ]
    },
    {
     "ename": "LoadError",
     "evalue": "LoadError: UndefVarError: plot not defined\nwhile loading In[11], in expression starting on line 1",
     "output_type": "error",
     "traceback": [
      "LoadError: UndefVarError: plot not defined\nwhile loading In[11], in expression starting on line 1",
      "",
      " in #main#5(::Bool, ::Function, ::GrowthModel, ::Int64) at ./In[9]:20",
      " in main(::GrowthModel, ::Int64) at ./In[9]:2"
     ]
    }
   ],
   "source": [
    "main(gm, 35)"
   ]
  },
  {
   "cell_type": "markdown",
   "metadata": {},
   "source": [
    "### 第二の図"
   ]
  },
  {
   "cell_type": "code",
   "execution_count": 12,
   "metadata": {
    "collapsed": false
   },
   "outputs": [
    {
     "ename": "LoadError",
     "evalue": "LoadError: UndefVarError: plot not defined\nwhile loading In[12], in expression starting on line 1",
     "output_type": "error",
     "traceback": [
      "LoadError: UndefVarError: plot not defined\nwhile loading In[12], in expression starting on line 1",
      "",
      " in #main#5(::Bool, ::Function, ::GrowthModel, ::Int64) at ./In[9]:20",
      " in main(::GrowthModel, ::Int64) at ./In[9]:2"
     ]
    }
   ],
   "source": [
    "main(gm, 75)"
   ]
  },
  {
   "cell_type": "markdown",
   "metadata": {},
   "source": [
    "## Exercise 1"
   ]
  },
  {
   "cell_type": "code",
   "execution_count": 13,
   "metadata": {
    "collapsed": false
   },
   "outputs": [],
   "source": [
    "using QuantEcon"
   ]
  },
  {
   "cell_type": "code",
   "execution_count": 14,
   "metadata": {
    "collapsed": false
   },
   "outputs": [
    {
     "data": {
      "text/html": [
       "<div id=\"2aa857e2-c801-4508-940d-ef21b8d16b85\" class=\"plotly-graph-div\"></div>\n",
       "\n",
       "<script>\n",
       "    window.PLOTLYENV=window.PLOTLYENV || {};\n",
       "    window.PLOTLYENV.BASE_URL=\"https://plot.ly\";\n",
       "    require(['plotly'], function(Plotly) {\n",
       "        Plotly.newPlot('2aa857e2-c801-4508-940d-ef21b8d16b85', [{\"y\":[4.815389700112689e-5,0.023214041205814284,0.03642585323319183,0.04740951874165922,0.05715759844878718,0.06607914728063921,0.07439290858298067,0.08223306004022372,0.08968934273863906,0.09682548675692278,0.10368879420909201,0.11031558650058396,0.11673451507177979,0.12296868188213599,0.1290370561305039,0.134955454296016,0.14073723817916525,0.1463938245975861,0.15193506561544085,0.1573695375361743,0.16270476418570157,0.16794739195447622,0.17310332881431714,0.17817785601925026,0.18317571880800299,0.18810120076300924,0.19295818530450654,0.19775020695298137,0.2024804943769437,0.2071520067877742,0.21176746490301532,0.21632937744213215,0.22084006392218014,0.22530167436919113,0.22971620644309804,0.2340855203814295,0.23841135209378678,0.24269532468078456,0.2469389586043515,0.25114368069851695,0.2553108321791301,0.2594416757859007,0.26353740216956084,0.2675991356199583,0.2716279392167893,0.2756248194729279,0.2795907305304697,0.2835265779613374,0.28743322221731177,0.2913114817684362,0.2951621359637112,0.2989859276437014,0.30278356553099894,0.3065557264213309,0.31030305719537354,0.3140261766689854,0.3177256772975313,0.32140212674819724,0.3250560693526529,0.328688027451067,0.33229850263730226,0.33588797691407674,0.3394569137659687,0.34300575915733456,0.346534942461501,0.350044877326962,0.35353596248575203,0.35700858250867257,0.3604631085116041,0.36389989881674434,0.36731929957225734,0.37072164533350777,0.37410725960876495,0.37747645537201363,0.3808295355452747,0.38416679345263716,0.3874885132480135,0.390794970318465,0.39408643166479024,0.39736315626093427,0.40062539539364744,0.40387339298371533,0.4071073858899706,0.4103276041972117,0.41353427148906097,0.4167276051067209,0.41990781639451374,0.4230751109330257,0.42622968876061545,0.429371744583995,0.4325014679785361,0.4356190435789139,0.4387246512606532,0.44181846631310784,0.4449006596043616,0.4479713977385137,0.45103084320577264,0.45407915452576303,0.4571164863844151,0.46014298976478946,0.4631588120721624,0.4661640972536795,0.46915898591286476,0.47214361541925315,0.475118120013402,0.47808263090751574,0.48103727638190985,0.48398218187752134,0.48691747008466485,0.4898432610282197,0.49275967214942085,0.49566681838442267,0.49856481223978694,0.5014537638650437,0.504333781122463,0.5072049696541685,0.5100674329467163,0.5129212723932542,0.5157665873533755,0.518603475210767,0.5214320314287549,0.5242523496038387,0.5270645215173033,0.529868637184994,0.5326647849053325,0.5354530513056527,0.5382335213869236,0.5410062785669321,0.5437714047219885,0.5465289802272159,0.5492790839954832,0.5520217935150367,0.5547571848858843,0.5574853328549816,0.5602063108502692,0.5629201910136055,0.5656270442326411,0.5683269401716737,0.5710199473015255,0.5737061329284786,0.5763855632223074,0.5790583032434405,0.5817244169692857,0.5843839673197487,0.5870370161819782,0.5896836244343626,0.5923238519698091,0.5949577577183285,0.5975853996689536,0.6002068348910145],\"name\":\"true optimal policy\",\"type\":\"scatter\",\"line\":{\"opacity\":0.8},\"x\":[1.0e-6,0.013423812080536912,0.026846624161073824,0.04026943624161074,0.053692248322147654,0.06711506040268457,0.08053787248322147,0.09396068456375839,0.1073834966442953,0.12080630872483221,0.13422912080536914,0.14765193288590603,0.16107474496644295,0.17449755704697986,0.18792036912751678,0.2013431812080537,0.2147659932885906,0.22818880536912753,0.24161161744966442,0.25503442953020133,0.26845724161073825,0.28188005369127517,0.2953028657718121,0.308725677852349,0.3221484899328859,0.33557130201342283,0.34899411409395975,0.36241692617449667,0.3758397382550336,0.38926255033557045,0.40268536241610736,0.4161081744966443,0.4295309865771812,0.4429537986577181,0.45637661073825503,0.46979942281879195,0.48322223489932886,0.4966450469798658,0.5100678590604026,0.5234906711409396,0.5369134832214765,0.5503362953020134,0.5637591073825503,0.5771819194630873,0.5906047315436241,0.6040275436241611,0.617450355704698,0.630873167785235,0.6442959798657718,0.6577187919463088,0.6711416040268456,0.6845644161073825,0.6979872281879195,0.7114100402684563,0.7248328523489933,0.7382556644295302,0.7516784765100671,0.765101288590604,0.778524100671141,0.7919469127516778,0.8053697248322148,0.8187925369127517,0.8322153489932886,0.8456381610738255,0.8590609731543624,0.8724837852348993,0.8859065973154362,0.8993294093959732,0.91275222147651,0.926175033557047,0.9395978456375839,0.9530206577181208,0.9664434697986577,0.9798662818791947,0.9932890939597315,1.0067119060402685,1.0201347181208054,1.0335575302013422,1.046980342281879,1.0604031543624162,1.073825966442953,1.08724877852349,1.1006715906040268,1.1140944026845638,1.1275172147651007,1.1409400268456376,1.1543628389261744,1.1677856510067115,1.1812084630872484,1.1946312751677852,1.208054087248322,1.2214768993288592,1.234899711409396,1.248322523489933,1.2617453355704698,1.2751681476510066,1.2885909597315437,1.3020137718120806,1.3154365838926174,1.3288593959731543,1.3422822080536914,1.3557050201342282,1.369127832214765,1.382550644295302,1.395973456375839,1.409396268456376,1.4228190805369128,1.4362418926174496,1.4496647046979865,1.4630875167785236,1.4765103288590604,1.4899331409395973,1.5033559530201341,1.5167787651006712,1.530201577181208,1.543624389261745,1.5570472013422818,1.570470013422819,1.5838928255033558,1.5973156375838926,1.6107384496644295,1.6241612617449663,1.6375840738255034,1.6510068859060403,1.6644296979865771,1.677852510067114,1.691275322147651,1.704698134228188,1.7181209463087248,1.7315437583892617,1.7449665704697988,1.7583893825503356,1.7718121946308725,1.7852350067114093,1.7986578187919464,1.8120806308724833,1.8255034429530201,1.838926255033557,1.8523490671140939,1.865771879194631,1.8791946912751678,1.8926175033557047,1.9060403154362415,1.9194631275167786,1.9328859395973155,1.9463087516778523,1.9597315637583892,1.9731543758389263,1.9865771879194631,2.0],\"marker\":{\"color\":\"black\"}},{\"y\":[0.00012589253743847058,0.009823052863258274,0.015499503198626852,0.021162690650922356,0.026821027342610555,0.029649251661792407,0.033416519350222516,0.03813180360167062,0.040958862424590674,0.04378577228053608,0.04661254548296129,0.049439214403150425,0.052265797923415826,0.055092304099706474,0.05791875930530927,0.060745148002108874,0.06357148762434471,0.06639778796895195,0.06922405059851301,0.07205027522891885,0.07487648941792187,0.0766612230494499,0.07770266871777182,0.08052882013985534,0.08335495490003206,0.08618107643584895,0.08835766822512679,0.08900717180462085,0.09183325758616875,0.09465933604982801,0.09726381961562885,0.09748538866818106,0.10031143538759253,0.10313747683676068,0.1039201990678615,0.10596349975329308,0.10878952485734707,0.11100690753706173,0.11161552927300908,0.11444152723342,0.11714300336914897,0.11726752911986703,0.12009351640977997,0.12242366270115797,0.12291949933303448,0.12574547613508685,0.12692861435365715,0.1285714424719591,0.1313974027406373,0.13139740822266316,0.13422337344743235,0.13704932312875093,0.1370493220160394,0.13987528721150327,0.14010822037614876,0.1427012459111921,0.14552718154158958,0.14552718575257956,0.14835313151979493,0.14835312548725302,0.1511790673649913,0.15330564834352026,0.15400500109058637,0.15683091713936148,0.15683092990414885,0.15965686033040616,0.1596568542419296,0.16248279460885728,0.16386311077586554,0.16530871265970085,0.16813464289664276,0.16813463558211705,0.17096056053277311,0.17096055657516188,0.17378647849376996,0.17378647027650376,0.1766124003694184,0.17661239281486232,0.17943829354040186,0.17979695306888827,0.1822642110386137,0.18339436605898754,0.1850901293294478,0.18684530938880425,0.18791604457690722,0.1901545260508623,0.19074194138693626,0.19332649785227665,0.1935678520805544,0.1963654733709446,0.19639376246257606,0.19921966907268038,0.19921966599975552,0.20204557110756002,0.20204555051764808,0.20472358307314165,0.20487146247701973,0.20726876150232496,0.207697347710911,0.20969911252084544,0.21052325515202294,0.21201775901861034,0.213349163588986,0.21422767462426043,0.2161750529542206,0.21633170422757242,0.21900094794966773,0.21900094242468082,0.22182683817224996,0.2218268451718348,0.22465273513759845,0.22465273032248745,0.22747863653418648,0.22747863431586807,0.23030452118885159,0.2303045049504105,0.2328380372776041,0.2331303947897625,0.23431497757065065,0.23595630085217958,0.23595629041769955,0.2387821908398291,0.2387821816406123,0.24160805702695046,0.24160808175804907,0.2444339634043191,0.2444339773218206,0.24660984969030206,0.24725985863177927,0.24762547325426518,0.25008573271539625,0.25008572853712957,0.25291159574125427,0.25291162949155177,0.25573749037332827,0.2557374955335094,0.25728661370855754,0.2585633798029608,0.25856336866076485,0.2613892690770866,0.26138925864979695,0.26421516258867217,0.264215136252834,0.2660558856005363,0.267041048916163,0.26704101540348824,0.26986692851633276,0.2698669138929253,0.2726927987655078,0.2726928024072122],\"name\":\"approximate optimal policy\",\"type\":\"scatter\",\"line\":{\"opacity\":0.8},\"x\":[1.0e-6,0.013423812080536912,0.026846624161073824,0.04026943624161074,0.053692248322147654,0.06711506040268457,0.08053787248322147,0.09396068456375839,0.1073834966442953,0.12080630872483221,0.13422912080536914,0.14765193288590603,0.16107474496644295,0.17449755704697986,0.18792036912751678,0.2013431812080537,0.2147659932885906,0.22818880536912753,0.24161161744966442,0.25503442953020133,0.26845724161073825,0.28188005369127517,0.2953028657718121,0.308725677852349,0.3221484899328859,0.33557130201342283,0.34899411409395975,0.36241692617449667,0.3758397382550336,0.38926255033557045,0.40268536241610736,0.4161081744966443,0.4295309865771812,0.4429537986577181,0.45637661073825503,0.46979942281879195,0.48322223489932886,0.4966450469798658,0.5100678590604026,0.5234906711409396,0.5369134832214765,0.5503362953020134,0.5637591073825503,0.5771819194630873,0.5906047315436241,0.6040275436241611,0.617450355704698,0.630873167785235,0.6442959798657718,0.6577187919463088,0.6711416040268456,0.6845644161073825,0.6979872281879195,0.7114100402684563,0.7248328523489933,0.7382556644295302,0.7516784765100671,0.765101288590604,0.778524100671141,0.7919469127516778,0.8053697248322148,0.8187925369127517,0.8322153489932886,0.8456381610738255,0.8590609731543624,0.8724837852348993,0.8859065973154362,0.8993294093959732,0.91275222147651,0.926175033557047,0.9395978456375839,0.9530206577181208,0.9664434697986577,0.9798662818791947,0.9932890939597315,1.0067119060402685,1.0201347181208054,1.0335575302013422,1.046980342281879,1.0604031543624162,1.073825966442953,1.08724877852349,1.1006715906040268,1.1140944026845638,1.1275172147651007,1.1409400268456376,1.1543628389261744,1.1677856510067115,1.1812084630872484,1.1946312751677852,1.208054087248322,1.2214768993288592,1.234899711409396,1.248322523489933,1.2617453355704698,1.2751681476510066,1.2885909597315437,1.3020137718120806,1.3154365838926174,1.3288593959731543,1.3422822080536914,1.3557050201342282,1.369127832214765,1.382550644295302,1.395973456375839,1.409396268456376,1.4228190805369128,1.4362418926174496,1.4496647046979865,1.4630875167785236,1.4765103288590604,1.4899331409395973,1.5033559530201341,1.5167787651006712,1.530201577181208,1.543624389261745,1.5570472013422818,1.570470013422819,1.5838928255033558,1.5973156375838926,1.6107384496644295,1.6241612617449663,1.6375840738255034,1.6510068859060403,1.6644296979865771,1.677852510067114,1.691275322147651,1.704698134228188,1.7181209463087248,1.7315437583892617,1.7449665704697988,1.7583893825503356,1.7718121946308725,1.7852350067114093,1.7986578187919464,1.8120806308724833,1.8255034429530201,1.838926255033557,1.8523490671140939,1.865771879194631,1.8791946912751678,1.8926175033557047,1.9060403154362415,1.9194631275167786,1.9328859395973155,1.9463087516778523,1.9597315637583892,1.9731543758389263,1.9865771879194631,2.0],\"marker\":{\"color\":\"blue\"}}],\n",
       "               {\"yaxis\":{\"range\":[0,1]},\"xaxis\":{\"range\":[0,2]},\"title\":\"Initial condition\",\"margin\":{\"r\":50,\"l\":50,\"b\":50,\"t\":60}}, {showLink: false});\n",
       "\n",
       "    });\n",
       " </script>\n"
      ]
     },
     "metadata": {},
     "output_type": "display_data"
    },
    {
     "name": "stderr",
     "output_type": "stream",
     "text": [
      "WARNING: readall is deprecated, use readstring instead.\n",
      " in depwarn(::String, ::Symbol) at ./deprecated.jl:64\n",
      " in readall(::String) at ./deprecated.jl:30\n",
      " in include_from_node1(::String) at ./loading.jl:488\n",
      " in include_from_node1(::String) at /Applications/Julia-0.5.app/Contents/Resources/julia/lib/julia/sys.dylib:?\n",
      " in __init__() at /Users/neon/.julia/v0.5/Interact/src/Interact.jl:81\n"
     ]
    },
    {
     "data": {
      "text/html": [
       "<div id=\"interact-js-shim\">\n",
       "    <script charset=\"utf-8\">\n",
       "(function (IPython, $, _, MathJax) {\n",
       "    $.event.special.destroyed = {\n",
       "\tremove: function(o) {\n",
       "\t    if (o.handler) {\n",
       "\t\to.handler.apply(this, arguments)\n",
       "\t    }\n",
       "\t}\n",
       "    }\n",
       "\n",
       "    var OutputArea = IPython.version >= \"4.0.0\" ? require(\"notebook/js/outputarea\").OutputArea : IPython.OutputArea;\n",
       "\n",
       "    var redrawValue = function (container, type, val) {\n",
       "\tvar selector = $(\"<div/>\");\n",
       "\tvar oa = new OutputArea(_.extend(selector, {\n",
       "\t    selector: selector,\n",
       "\t    prompt_area: true,\n",
       "\t    events: IPython.events,\n",
       "\t    keyboard_manager: IPython.keyboard_manager\n",
       "\t})); // Hack to work with IPython 2.1.0\n",
       "\n",
       "\tswitch (type) {\n",
       "\tcase \"image/png\":\n",
       "            var _src = 'data:' + type + ';base64,' + val;\n",
       "\t    $(container).find(\"img\").attr('src', _src);\n",
       "\t    break;\n",
       "\tdefault:\n",
       "\t    var toinsert = OutputArea.append_map[type].apply(\n",
       "\t\toa, [val, {}, selector]\n",
       "\t    );\n",
       "\t    $(container).empty().append(toinsert.contents());\n",
       "\t    selector.remove();\n",
       "\t}\n",
       "\tif (type === \"text/latex\" && MathJax) {\n",
       "\t    MathJax.Hub.Queue([\"Typeset\", MathJax.Hub, toinsert.get(0)]);\n",
       "\t}\n",
       "    }\n",
       "\n",
       "\n",
       "    $(document).ready(function() {\n",
       "\tfunction initComm(evt, data) {\n",
       "\t    var comm_manager = data.kernel.comm_manager;\n",
       "        //_.extend(comm_manager.targets, require(\"widgets/js/widget\"))\n",
       "\t    comm_manager.register_target(\"Signal\", function (comm) {\n",
       "            comm.on_msg(function (msg) {\n",
       "                //Widgets.log(\"message received\", msg);\n",
       "                var val = msg.content.data.value;\n",
       "                $(\".signal-\" + comm.comm_id).each(function() {\n",
       "                var type = $(this).data(\"type\");\n",
       "                if (val[type]) {\n",
       "                    redrawValue(this, type, val[type], type);\n",
       "                }\n",
       "                });\n",
       "                delete val;\n",
       "                delete msg.content.data.value;\n",
       "            });\n",
       "\t    });\n",
       "\n",
       "\t    // coordingate with Comm and redraw Signals\n",
       "\t    // XXX: Test using Reactive here to improve performance\n",
       "\t    $([IPython.events]).on(\n",
       "\t\t'output_appended.OutputArea', function (event, type, value, md, toinsert) {\n",
       "\t\t    if (md && md.reactive) {\n",
       "                // console.log(md.comm_id);\n",
       "                toinsert.addClass(\"signal-\" + md.comm_id);\n",
       "                toinsert.data(\"type\", type);\n",
       "                // Signal back indicating the mimetype required\n",
       "                var comm_manager = IPython.notebook.kernel.comm_manager;\n",
       "                var comm = comm_manager.comms[md.comm_id];\n",
       "                comm.then(function (c) {\n",
       "                    c.send({action: \"subscribe_mime\",\n",
       "                       mime: type});\n",
       "                    toinsert.bind(\"destroyed\", function() {\n",
       "                        c.send({action: \"unsubscribe_mime\",\n",
       "                               mime: type});\n",
       "                    });\n",
       "                })\n",
       "\t\t    }\n",
       "\t    });\n",
       "\t}\n",
       "\n",
       "\ttry {\n",
       "\t    // try to initialize right away. otherwise, wait on the status_started event.\n",
       "\t    initComm(undefined, IPython.notebook);\n",
       "\t} catch (e) {\n",
       "\t    $([IPython.events]).on('kernel_created.Kernel kernel_created.Session', initComm);\n",
       "\t}\n",
       "    });\n",
       "})(IPython, jQuery, _, MathJax);\n",
       "</script>\n",
       "    <script>\n",
       "        window.interactLoadedFlag = true\n",
       "       $(\"#interact-js-shim\").bind(\"destroyed\", function () {\n",
       "           if (window.interactLoadedFlag) {\n",
       "               console.warn(\"JavaScript required by Interact will be removed if you remove this cell or run using Interact more than once.\")\n",
       "           }\n",
       "       })\n",
       "       $([IPython.events]).on(\"kernel_starting.Kernel kernel_restarting.Kernel\", function () { window.interactLoadedFlag = false })\n",
       "   </script>\n",
       "</div>"
      ]
     },
     "metadata": {},
     "output_type": "display_data"
    },
    {
     "data": {
      "text/html": [],
      "text/plain": [
       "Interact.Slider{Int64}(Signal{Int64}(5, nactions=0),\"n\",5,1:10,true)"
      ]
     },
     "metadata": {},
     "output_type": "display_data"
    },
    {
     "name": "stderr",
     "output_type": "stream",
     "text": [
      " in include_from_node1(::String) at ./loading.jl:488\n",
      " in include_from_node1(::String) at /Applications/Julia-0.5.app/Contents/Resources/julia/lib/julia/sys.dylib:?\n",
      " in eval(::Module, ::Any) at ./boot.jl:234\n",
      " in eval(::Module, ::Any) at /Applications/Julia-0.5.app/Contents/Resources/julia/lib/julia/sys.dylib:?\n",
      " in require(::Symbol) at ./loading.jl:415\n",
      " in require(::Symbol) at /Applications/Julia-0.5.app/Contents/Resources/julia/lib/julia/sys.dylib:?\n",
      " in include_string(::String, ::String) at ./loading.jl:441\n",
      " in execute_request(::ZMQ.Socket, ::IJulia.Msg) at /Users/neon/.julia/v0.5/IJulia/src/execute_request.jl:169\n",
      " in eventloop(::ZMQ.Socket) at /Users/neon/.julia/v0.5/IJulia/src/eventloop.jl:8\n",
      " in (::IJulia.##9#15)() at ./task.jl:360\n",
      "while loading /Users/neon/.julia/v0.5/Interact/src/IJulia/setup.jl, in expression starting on line 13\n",
      "WARNING: Base.writemime is deprecated.\n",
      "  likely near /Users/neon/.julia/v0.5/Interact/src/IJulia/setup.jl:105\n",
      "WARNING: Base.writemime is deprecated.\n",
      "  likely near /Users/neon/.julia/v0.5/Interact/src/IJulia/setup.jl:105\n",
      "WARNING: Base.writemime is deprecated.\n",
      "  likely near /Users/neon/.julia/v0.5/Interact/src/IJulia/setup.jl:109\n",
      "WARNING: Base.writemime is deprecated.\n",
      "  likely near /Users/neon/.julia/v0.5/Interact/src/IJulia/setup.jl:109\n",
      "WARNING: Base.writemime is deprecated.\n",
      "  likely near /Users/neon/.julia/v0.5/Interact/src/IJulia/setup.jl:113\n",
      "WARNING: Base.writemime is deprecated.\n",
      "  likely near /Users/neon/.julia/v0.5/Interact/src/IJulia/setup.jl:113\n",
      "WARNING: Base.writemime is deprecated.\n",
      "  likely near /Users/neon/.julia/v0.5/Interact/src/IJulia/setup.jl:118\n",
      "WARNING: Base.writemime is deprecated.\n",
      "  likely near /Users/neon/.julia/v0.5/Interact/src/IJulia/setup.jl:118\n",
      "WARNING: Base.writemime is deprecated.\n",
      "  likely near /Users/neon/.julia/v0.5/Interact/src/IJulia/setup.jl:123\n",
      "WARNING: Base.writemime is deprecated.\n",
      "  likely near /Users/neon/.julia/v0.5/Interact/src/IJulia/setup.jl:123\n"
     ]
    },
    {
     "data": {
      "text/plain": [
       "nothing"
      ]
     },
     "execution_count": 14,
     "metadata": {
      "comm_id": "24659376-37c4-4da7-9fba-b4d288cd6a3d",
      "reactive": true
     },
     "output_type": "execute_result"
    }
   ],
   "source": [
    "using PlotlyJS\n",
    "# set up the model\n",
    "alpha = 0.65\n",
    "gm = GrowthModel() \n",
    "true_sigma = (1 - alpha*gm.bet) .* collect(gm.grid).^alpha\n",
    "w = 5 .* gm.u(collect(gm.grid)) .- 25  # Initial condition\n",
    "sigma = get_greedy(gm, w)\n",
    "bellman(w) = bellman_operator(gm, w)\n",
    "\n",
    "# construct the plot with the initial condition above\n",
    "layout = Layout(yaxis_range=(0, 1), xaxis_range=(0, 2),\n",
    "                title=\"Initial condition\")\n",
    "\n",
    "t1 = PlotlyJS.scatter(x=gm.grid, y=true_sigma, marker_color=\"black\", line_opacity=0.8,\n",
    "             name=\"true optimal policy\")\n",
    "t2 = PlotlyJS.scatter(x=gm.grid, y=sigma, marker_color=\"blue\", line_opacity=0.8,\n",
    "             name=\"approximate optimal policy\")\n",
    "\n",
    "p = PlotlyJS.plot([t1, t2], layout)\n",
    "display(p)\n",
    "\n",
    "# now for n=1, 2, ..., 10 compute the policy after n VFI iterations\n",
    "vf_n = Dict(0=>get_greedy(gm, w))\n",
    "for n in 1:10\n",
    "    v_star2 = compute_fixed_point(bellman, w, max_iter=n, verbose=false)\n",
    "    vf_n[n] = get_greedy(gm, v_star2)\n",
    "end\n",
    "\n",
    "using Interact\n",
    "# construct an interactive plot using the data we computed above\n",
    "@manipulate for n in 1:10\n",
    "    # update title\n",
    "    relayout!(p, title=\"$n value function iterations\")\n",
    "    \n",
    "    # update the y values on approximation\n",
    "    restyle!(p, 2; y=(vf_n[n],))\n",
    "end"
   ]
  },
  {
   "cell_type": "code",
   "execution_count": 15,
   "metadata": {
    "collapsed": false
   },
   "outputs": [
    {
     "name": "stderr",
     "output_type": "stream",
     "text": [
      "WARNING: Base.ASCIIString is deprecated, use String instead.\n",
      "  likely near /Users/neon/.julia/v0.5/IJulia/src/kernel.jl:31\n",
      "WARNING: Base.ASCIIString is deprecated, use String instead.\n",
      "  likely near /Users/neon/.julia/v0.5/IJulia/src/kernel.jl:31\n",
      "WARNING: Base.ASCIIString is deprecated, use String instead.\n",
      "  likely near /Users/neon/.julia/v0.5/IJulia/src/kernel.jl:31\n",
      "WARNING: Base.ByteString is deprecated, use String instead.\n",
      "  likely near /Users/neon/.julia/v0.5/IJulia/src/kernel.jl:31\n",
      "WARNING: Base.ASCIIString is deprecated, use String instead.\n",
      "  likely near /Users/neon/.julia/v0.5/IJulia/src/kernel.jl:31\n",
      "WARNING: Base.ByteString is deprecated, use String instead.\n",
      "  likely near /Users/neon/.julia/v0.5/IJulia/src/kernel.jl:31\n",
      "WARNING: Base.ASCIIString is deprecated, use String instead.\n",
      "  likely near /Users/neon/.julia/v0.5/IJulia/src/kernel.jl:31\n",
      "WARNING: Base.ByteString is deprecated, use String instead.\n",
      "  likely near /Users/neon/.julia/v0.5/IJulia/src/kernel.jl:31\n",
      "WARNING: Base.ASCIIString is deprecated, use String instead.\n",
      "  likely near /Users/neon/.julia/v0.5/IJulia/src/kernel.jl:31\n",
      "WARNING: Base.ByteString is deprecated, use String instead.\n",
      "  likely near /Users/neon/.julia/v0.5/IJulia/src/kernel.jl:31\n"
     ]
    },
    {
     "data": {
      "text/html": [
       "<div id=\"9a685710-042b-46b9-970c-e30a9e9ddf9b\" class=\"plotly-graph-div\"></div>\n",
       "\n",
       "<script>\n",
       "    window.PLOTLYENV=window.PLOTLYENV || {};\n",
       "    window.PLOTLYENV.BASE_URL=\"https://plot.ly\";\n",
       "    require(['plotly'], function(Plotly) {\n",
       "        Plotly.newPlot('9a685710-042b-46b9-970c-e30a9e9ddf9b', [{\"y\":[0.1,36.74787089432376,31.94307019393617,31.036916123142607,30.860815016645617,30.826383982968572,30.819644048730623,30.818324386674146,30.818065988360914,30.818015391856857,30.81800548462998,30.818003544709818,30.818003164856755,30.818003090478257,30.818003075914305,30.818003073062556,30.818003072504162,30.818003072394824,30.818003072373415,30.818003072369223,30.8180030723684,30.81800307236824,30.818003072368207,30.8180030723682,30.8180030723682],\"name\":\"β=0.9\",\"type\":\"scatter\",\"line\":{\"width\":2},\"x\":[1,2,3,4,5,6,7,8,9,10,11,12,13,14,15,16,17,18,19,20,21,22,23,24,25],\"marker\":{\"symbol\":\"circle\",\"opacity\":0.75}},{\"y\":[0.1,36.74787089432376,31.94307019393617,31.036916123142607,30.860815016645617,30.826383982968572,30.819644048730623,30.818324386674146,30.818065988360914,30.818015391856857,30.81800548462998,30.818003544709818,30.818003164856755,30.818003090478257,30.818003075914305,30.818003073062556,30.818003072504162,30.818003072394824,30.818003072373415,30.818003072369223,30.8180030723684,30.81800307236824,30.818003072368207,30.8180030723682,30.8180030723682],\"name\":\"β=0.94\",\"type\":\"scatter\",\"line\":{\"width\":2},\"x\":[1,2,3,4,5,6,7,8,9,10,11,12,13,14,15,16,17,18,19,20,21,22,23,24,25],\"marker\":{\"symbol\":\"circle\",\"opacity\":0.75}},{\"y\":[0.1,36.74787089432376,31.94307019393617,31.036916123142607,30.860815016645617,30.826383982968572,30.819644048730623,30.818324386674146,30.818065988360914,30.818015391856857,30.81800548462998,30.818003544709818,30.818003164856755,30.818003090478257,30.818003075914305,30.818003073062556,30.818003072504162,30.818003072394824,30.818003072373415,30.818003072369223,30.8180030723684,30.81800307236824,30.818003072368207,30.8180030723682,30.8180030723682],\"name\":\"β=0.98\",\"type\":\"scatter\",\"line\":{\"width\":2},\"x\":[1,2,3,4,5,6,7,8,9,10,11,12,13,14,15,16,17,18,19,20,21,22,23,24,25],\"marker\":{\"symbol\":\"circle\",\"opacity\":0.75}}],\n",
       "               {\"yaxis\":{\"title\":\"capital\"},\"xaxis\":{\"title\":\"time\"},\"margin\":{\"r\":50,\"l\":50,\"b\":50,\"t\":60}}, {showLink: false});\n",
       "\n",
       "    });\n",
       " </script>\n"
      ]
     },
     "execution_count": 15,
     "metadata": {},
     "output_type": "execute_result"
    }
   ],
   "source": [
    "gm = GrowthModel()\n",
    "w = 5 .* gm.u(gm.grid) .- 25\n",
    "\n",
    "discount_factors = [0.9, 0.94, 0.98]\n",
    "series_length = 25\n",
    "\n",
    "traces = GenericTrace[]\n",
    "\n",
    "for bet in discount_factors\n",
    "\n",
    "    # Compute the optimal policy given the discount factor\n",
    "    gm.bet = bet\n",
    "    bellman2(w) = bellman_operator(gm, w)\n",
    "    v_star3 = compute_fixed_point(bellman, w, max_iter=500, verbose=false)\n",
    "    sigma = get_greedy(gm, v_star3)\n",
    "    \n",
    "    # Compute the corresponding time series for capital\n",
    "    k = Array(Float64, series_length)\n",
    "    k[1] = 0.1\n",
    "    \n",
    "    sigma_func = MyLinInterp.LinearInterpolation(gm.grid, w) \n",
    "    \n",
    "    for t=2:series_length\n",
    "        k[t] = gm.f(k[t-1]) - sigma_func(k[t-1])\n",
    "    end\n",
    "    trace = PlotlyJS.scatter(x=1:series_length, y=k, marker_symbol=\"circle\", \n",
    "                    line_width=2, marker_opacity=0.75, \n",
    "                    name=\"β=$(bet)\")\n",
    "    \n",
    "    push!(traces, trace)\n",
    "    \n",
    "end\n",
    "\n",
    "layout = Layout(xaxis_title=\"time\", \n",
    "                yaxis=attr(title=\"capital\"))#, range=(0.1, 0.3)))\n",
    "\n",
    "PlotlyJS.plot(traces, layout)"
   ]
  }
 ],
 "metadata": {
  "anaconda-cloud": {},
  "kernelspec": {
   "display_name": "Julia 0.5.0",
   "language": "julia",
   "name": "julia-0.5"
  },
  "language_info": {
   "file_extension": ".jl",
   "mimetype": "application/julia",
   "name": "julia",
   "version": "0.5.0"
  }
 },
 "nbformat": 4,
 "nbformat_minor": 0
}
