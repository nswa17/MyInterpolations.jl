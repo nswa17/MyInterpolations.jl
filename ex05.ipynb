{
 "cells": [
  {
   "cell_type": "markdown",
   "metadata": {},
   "source": [
    "# ex05\n",
    "##### - Nakada Ryumei"
   ]
  },
  {
   "cell_type": "code",
   "execution_count": 1,
   "metadata": {
    "collapsed": false
   },
   "outputs": [
    {
     "ename": "LoadError",
     "evalue": "LoadError: ArgumentError: Module Grid not found in current path.\nRun `Pkg.add(\"Grid\")` to install the Grid package.\nwhile loading In[1], in expression starting on line 2",
     "output_type": "error",
     "traceback": [
      "LoadError: ArgumentError: Module Grid not found in current path.\nRun `Pkg.add(\"Grid\")` to install the Grid package.\nwhile loading In[1], in expression starting on line 2",
      "",
      " in require(::Symbol) at ./loading.jl:365",
      " in require(::Symbol) at /Volumes/Julia-0.5.0/Julia-0.5.app/Contents/Resources/julia/lib/julia/sys.dylib:?"
     ]
    }
   ],
   "source": [
    "using Optim: optimize\n",
    "using Grid: CoordInterpGrid, BCnan, InterpLinear\n",
    "using Plots\n",
    "pyplot()\n",
    "\n",
    "\n",
    "## Primitives and grid\n",
    "alpha = 0.65\n",
    "bet = 0.95\n",
    "grid_max = 2\n",
    "grid_size = 150\n",
    "grid = 1e-6:(grid_max-1e-6)/(grid_size-1):grid_max\n",
    "\n",
    "## Exact solution\n",
    "ab = alpha * bet\n",
    "c1 = (log(1 - ab) + log(ab) * ab / (1 - ab)) / (1 - bet)\n",
    "c2 = alpha / (1 - ab)\n",
    "v_star(k) = c1 .+ c2 .* log(k)\n",
    "\n",
    "\n",
    "function bellman_operator(grid, w)\n",
    "    Aw = CoordInterpGrid(grid, w, BCnan, InterpLinear)\n",
    "\n",
    "    Tw = zeros(w)\n",
    "\n",
    "    for (i, k) in enumerate(grid)\n",
    "        objective(c) = - log(c) - bet * Aw[k^alpha - c]\n",
    "        res = optimize(objective, 1e-6, k^alpha)\n",
    "        Tw[i] = - objective(res.minimum)\n",
    "    end\n",
    "    return Tw\n",
    "end\n",
    "\n",
    "\n",
    "function main(n::Int=35)\n",
    "    w_init = 5 .* log(grid) .- 25  # An initial condition -- fairly arbitrary\n",
    "    w = copy(w_init)\n",
    "\n",
    "    ws = []\n",
    "    colors = []\n",
    "    for i=1:n\n",
    "        w = bellman_operator(grid, w)\n",
    "        push!(ws, w)\n",
    "        push!(colors, RGBA(0, 0, 0, i/n))\n",
    "    end\n",
    "\n",
    "    p = plot(grid, w_init, color=:green, linewidth=2, alpha=0.6,\n",
    "         label=\"initial condition\")\n",
    "    plot!(grid, ws, color=colors', label=\"\", linewidth=2)\n",
    "    plot!(grid, v_star(grid), color=:blue, linewidth=2, alpha=0.8,\n",
    "         label=\"true value function\")\n",
    "    plot!(ylims=(-40, -20), xlims=(minimum(grid), maximum(grid)))\n",
    "\n",
    "    return p\n",
    "end"
   ]
  },
  {
   "cell_type": "code",
   "execution_count": 2,
   "metadata": {
    "collapsed": false
   },
   "outputs": [
    {
     "ename": "LoadError",
     "evalue": "LoadError: UndefVarError: main not defined\nwhile loading In[2], in expression starting on line 1",
     "output_type": "error",
     "traceback": [
      "LoadError: UndefVarError: main not defined\nwhile loading In[2], in expression starting on line 1",
      ""
     ]
    }
   ],
   "source": [
    "main(59)"
   ]
  },
  {
   "cell_type": "code",
   "execution_count": 3,
   "metadata": {
    "collapsed": false
   },
   "outputs": [
    {
     "name": "stderr",
     "output_type": "stream",
     "text": [
      "\n",
      "WARNING: deprecated syntax \"call(a::LinearInterpolation, ...)\".\n",
      "Use \"(a::LinearInterpolation)(...)\" instead.\n"
     ]
    },
    {
     "data": {
      "text/plain": [
       "main (generic function with 2 methods)"
      ]
     },
     "execution_count": 3,
     "metadata": {},
     "output_type": "execute_result"
    }
   ],
   "source": [
    "include(\"MyLinInterp.jl\")\n",
    "\n",
    "using Optim: optimize\n",
    "#using Grid: CoordInterpGrid, BCnan, InterpLinear\n",
    "using Plots\n",
    "pyplot()\n",
    "\n",
    "\n",
    "## Primitives and grid\n",
    "alpha = 0.65\n",
    "bet = 0.95\n",
    "grid_max = 2\n",
    "grid_size = 150\n",
    "grid = 1e-6:(grid_max-1e-6)/(grid_size-1):grid_max\n",
    "\n",
    "## Exact solution\n",
    "ab = alpha * bet\n",
    "c1 = (log(1 - ab) + log(ab) * ab / (1 - ab)) / (1 - bet)\n",
    "c2 = alpha / (1 - ab)\n",
    "v_star(k) = c1 .+ c2 .* log(k)\n",
    "\n",
    "\n",
    "function bellman_operator(grid, w)\n",
    "    Aw = MyLinInterp.LinearInterpolation(grid, w) \n",
    "\n",
    "    Tw = zeros(w)\n",
    "\n",
    "    for (i, k) in enumerate(grid)\n",
    "        objective(c) = - log(c) - bet * Aw(k^alpha - c)\n",
    "        res = optimize(objective, 1e-6, k^alpha)\n",
    "        Tw[i] = - objective(res.minimum)\n",
    "    end\n",
    "    return Tw\n",
    "end\n",
    "\n",
    "\n",
    "function main(n::Int=35)\n",
    "    w_init = 5 .* log(grid) .- 25  # An initial condition -- fairly arbitrary\n",
    "    w = copy(w_init)\n",
    "    v_star(k) = c1 .+ c2 .* log(k)\n",
    "\n",
    "    ws = []\n",
    "    colors = []\n",
    "    for i=1:n\n",
    "        w = bellman_operator(grid, w)\n",
    "        push!(ws, w)\n",
    "        push!(colors, RGBA(i/n, 0, 0, 1))\n",
    "    end\n",
    "\n",
    "    p = plot(grid, w_init, color=:green, linewidth=2, alpha=0.6,\n",
    "         label=\"initial condition\")\n",
    "    plot!(grid, ws, color=colors', label=\"\", linewidth=2)\n",
    "    plot!(grid, v_star(grid), color=:blue, linewidth=2, alpha=0.8,\n",
    "         label=\"true value function\")\n",
    "    plot!(ylims=(-40, -20), xlims=(minimum(grid), maximum(grid)))\n",
    "\n",
    "    return p\n",
    "end"
   ]
  },
  {
   "cell_type": "code",
   "execution_count": null,
   "metadata": {
    "collapsed": false
   },
   "outputs": [],
   "source": [
    "main()"
   ]
  },
  {
   "cell_type": "code",
   "execution_count": null,
   "metadata": {
    "collapsed": false
   },
   "outputs": [],
   "source": [
    "main(75)"
   ]
  },
  {
   "cell_type": "code",
   "execution_count": null,
   "metadata": {
    "collapsed": true
   },
   "outputs": [],
   "source": []
  },
  {
   "cell_type": "code",
   "execution_count": null,
   "metadata": {
    "collapsed": true
   },
   "outputs": [],
   "source": []
  },
  {
   "cell_type": "code",
   "execution_count": null,
   "metadata": {
    "collapsed": true
   },
   "outputs": [],
   "source": []
  },
  {
   "cell_type": "code",
   "execution_count": null,
   "metadata": {
    "collapsed": true
   },
   "outputs": [],
   "source": []
  },
  {
   "cell_type": "code",
   "execution_count": null,
   "metadata": {
    "collapsed": true
   },
   "outputs": [],
   "source": []
  },
  {
   "cell_type": "code",
   "execution_count": null,
   "metadata": {
    "collapsed": false
   },
   "outputs": [],
   "source": [
    "#=\n",
    "Solving the optimal growth problem via value function iteration.\n",
    "\n",
    "@author : Spencer Lyon <spencer.lyon@nyu.edu>\n",
    "\n",
    "@date : 2014-07-05\n",
    "\n",
    "References\n",
    "----------\n",
    "\n",
    "Simple port of the file quantecon.models.optgrowth\n",
    "\n",
    "http://quant-econ.net/jl/dp_intro.html\n",
    "=#\n",
    "\n",
    "#=\n",
    "    This type defines the primitives representing the growth model. The\n",
    "    default values are\n",
    "\n",
    "        f(k) = k**alpha, i.e, Cobb-Douglas production function\n",
    "        u(c) = ln(c), i.e, log utility\n",
    "\n",
    "    See the constructor below for details\n",
    "=#\n",
    "                \n",
    "include(\"MyLinInterp.jl\")\n",
    "using Optim\n",
    "using Colors\n",
    "using Plots\n",
    "\n",
    "\"\"\"\n",
    "Neoclassical growth model\n",
    "\n",
    "##### Fields\n",
    "\n",
    "- `f::Function` : Production function\n",
    "- `bet::Real` : Discount factor in (0, 1)\n",
    "- `u::Function` : Utility function\n",
    "- `grid_max::Int` : Maximum for grid over savings values\n",
    "- `grid_size::Int` : Number of points in grid for savings values\n",
    "- `grid::LinSpace{Float64}` : The grid for savings values\n",
    "\n",
    "\"\"\"\n",
    "type GrowthModel\n",
    "    f::Function\n",
    "    bet::Float64\n",
    "    u::Function\n",
    "    grid_max::Int\n",
    "    grid_size::Int\n",
    "    grid::LinSpace{Float64}\n",
    "end\n",
    "\n",
    "\n",
    "default_f(k) = k^0.65\n",
    "default_u(c) = log(c)\n",
    "\n",
    "\"\"\"\n",
    "Constructor of `GrowthModel`\n",
    "\n",
    "##### Arguments\n",
    "\n",
    "- `f::Function(k->k^0.65)` : Production function\n",
    "- `bet::Real(0.95)` : Discount factor in (0, 1)\n",
    "- `u::Function(log)` : Utility function\n",
    "- `grid_max::Int(2)` : Maximum for grid over savings values\n",
    "- `grid_size::Int(150)` : Number of points in grid for savings values\n",
    "\n",
    "\"\"\"\n",
    "function GrowthModel(f=default_f, bet=0.95, u=default_u, grid_max=2,\n",
    "                     grid_size=150)\n",
    "    grid = linspace(1e-6, grid_max, grid_size)\n",
    "    return GrowthModel(f, bet, u, grid_max, grid_size, grid)\n",
    "end\n",
    "\n",
    "\"\"\"\n",
    "Apply the Bellman operator for a given model and initial value.\n",
    "\n",
    "##### Arguments\n",
    "\n",
    "- `g::GrowthModel` : Instance of `GrowthModel`\n",
    "- `w::Vector`: Current guess for the value function\n",
    "- `out::Vector` : Storage for output.\n",
    "- `;ret_policy::Bool(false)`: Toggles return of value or policy functions\n",
    "\n",
    "##### Returns\n",
    "\n",
    "None, `out` is updated in place. If `ret_policy == true` out is filled with the\n",
    "policy function, otherwise the value function is stored in `out`.\n",
    "\n",
    "\"\"\"\n",
    "function bellman_operator!(g::GrowthModel, w::Vector, out::Vector;\n",
    "                           ret_policy::Bool=false)\n",
    "    # Apply linear interpolation to w\n",
    "    Aw = MyLinInterp.LinearInterpolation(g.grid, w) \n",
    "\n",
    "    for (i, k) in enumerate(g.grid)\n",
    "        objective(c) = - g.u(c) - g.bet * Aw(g.f(k) - c)\n",
    "        res = optimize(objective, 1e-6, g.f(k))\n",
    "        c_star = res.minimum\n",
    "\n",
    "        if ret_policy\n",
    "            # set the policy equal to the optimal c\n",
    "            out[i] = c_star\n",
    "        else\n",
    "            # set Tw[i] equal to max_c { u(c) + beta w(f(k_i) - c)}\n",
    "            out[i] = - objective(c_star)\n",
    "        end\n",
    "    end\n",
    "\n",
    "    return out\n",
    "end\n",
    "\n",
    "function bellman_operator(g::GrowthModel, w::Vector;\n",
    "                          ret_policy::Bool=false)\n",
    "    out = similar(w)\n",
    "    bellman_operator!(g, w, out, ret_policy=ret_policy)\n",
    "end\n",
    "\n",
    "\"\"\"\n",
    "Extract the greedy policy (policy function) of the model.\n",
    "\n",
    "##### Arguments\n",
    "\n",
    "- `g::GrowthModel` : Instance of `GrowthModel`\n",
    "- `w::Vector`: Current guess for the value function\n",
    "- `out::Vector` : Storage for output\n",
    "\n",
    "##### Returns\n",
    "\n",
    "None, `out` is updated in place to hold the policy function\n",
    "\n",
    "\"\"\"\n",
    "function get_greedy!(g::GrowthModel, w::Vector, out::Vector)\n",
    "    bellman_operator!(g, w, out, ret_policy=true)\n",
    "end\n",
    "\n",
    "get_greedy(g::GrowthModel, w::Vector) = bellman_operator(g, w, ret_policy=true)"
   ]
  },
  {
   "cell_type": "code",
   "execution_count": null,
   "metadata": {
    "collapsed": false
   },
   "outputs": [],
   "source": [
    "#=\n",
    "Compute the fixed point of a given operator T, starting from\n",
    "specified initial condition v.\n",
    "\n",
    "@author : Spencer Lyon <spencer.lyon@nyu.edu>\n",
    "\n",
    "@date: 2014-07-05\n",
    "\n",
    "References\n",
    "----------\n",
    "\n",
    "http://quant-econ.net/jl/dp_intro.html\n",
    "=#\n",
    "\n",
    "\n",
    "\"\"\"\n",
    "Repeatedly apply a function to search for a fixed point\n",
    "\n",
    "Approximates `T^∞ v`, where `T` is an operator (function) and `v` is an initial\n",
    "guess for the fixed point. Will terminate either when `T^{k+1}(v) - T^k v <\n",
    "err_tol` or `max_iter` iterations has been exceeded.\n",
    "\n",
    "Provided that `T` is a contraction mapping or similar,  the return value will\n",
    "be an approximation to the fixed point of `T`.\n",
    "\n",
    "##### Arguments\n",
    "\n",
    "* `T`: A function representing the operator `T`\n",
    "* `v::TV`: The initial condition. An object of type `TV`\n",
    "* `;err_tol(1e-3)`: Stopping tolerance for iterations\n",
    "* `;max_iter(50)`: Maximum number of iterations\n",
    "* `;verbose(2)`: Level of feedback (0 for no output, 1 for warnings only, 2\n",
    "        for warning and convergence messages during iteration)\n",
    "* `;print_skip(10)` : if `verbose == 2`, how many iterations to apply between\n",
    "        print messages\n",
    "\n",
    "##### Returns\n",
    "---\n",
    "\n",
    "* '::TV': The fixed point of the operator `T`. Has type `TV`\n",
    "\n",
    "##### Example\n",
    "\n",
    "```julia\n",
    "using QuantEcon\n",
    "T(x, μ) = 4.0 * μ * x * (1.0 - x)\n",
    "x_star = compute_fixed_point(x->T(x, 0.3), 0.4)  # (4μ - 1)/(4μ)\n",
    "```\n",
    "\n",
    "\"\"\"\n",
    "function compute_fixed_point{TV}(T::Function, \n",
    "                                v::TV; \n",
    "                                err_tol=1e-4,\n",
    "                                max_iter=100, \n",
    "                                verbose=2, \n",
    "                                print_skip=10)\n",
    "\n",
    "    if !(verbose in (0, 1, 2))\n",
    "        throw(ArgumentError(\"verbose should be 0, 1 or 2\"))\n",
    "    end\n",
    "\n",
    "    iterate = 0\n",
    "    err = err_tol + 1\n",
    "    while iterate < max_iter && err > err_tol\n",
    "        new_v = T(v)::TV\n",
    "        iterate += 1\n",
    "        err = Base.maxabs(new_v - v)\n",
    "        if verbose == 2\n",
    "            if iterate % print_skip == 0\n",
    "                println(\"Compute iterate $iterate with error $err\")\n",
    "            end\n",
    "        end\n",
    "        v = new_v\n",
    "    end\n",
    "\n",
    "    if verbose >= 1\n",
    "        if iterate == max_iter\n",
    "            warn(\"max_iter attained in compute_fixed_point\")\n",
    "        elseif verbose == 2\n",
    "            println(\"Converged in $iterate steps\")\n",
    "        end\n",
    "    end\n",
    "\n",
    "    return v\n",
    "end"
   ]
  },
  {
   "cell_type": "code",
   "execution_count": null,
   "metadata": {
    "collapsed": false
   },
   "outputs": [],
   "source": [
    "function main(gm, n::Int=35; show_fig = true)\n",
    "    w_init = 5 .* log(gm.grid) .- 25  # An initial condition -- fairly arbitrary\n",
    "    w = copy(w_init)\n",
    "    \n",
    "    ws = Array(Array, n)\n",
    "    colors = Array(RGBA, 1, n)\n",
    "    for i=1:n\n",
    "        w = bellman_operator(gm, w)\n",
    "        ws[i] = w\n",
    "        colors[i] = RGBA(i/n, 1-i/n, i/n, 0)\n",
    "    end\n",
    "\n",
    "    alpha = 0.65\n",
    "    ab = alpha * gm.bet\n",
    "    c1 = (log(1 - ab) + log(ab) * ab / (1 - ab)) / (1 - gm.bet)\n",
    "    c2 = alpha / (1 - ab)\n",
    "    v_star(k) = c1 .+ c2 .* log(k)\n",
    "\n",
    "    if show_fig\n",
    "        p = plot(gm.grid, w_init, color=:green, linewidth=2, alpha=0.6, label=\"initial condition\")\n",
    "        plot!(gm.grid, ws, color=colors, label=\"\", linewidth=2)\n",
    "        plot!(gm.grid, v_star(gm.grid), color=:blue, linewidth=2, alpha=0.8, label=\"true value function\")\n",
    "        plot!(ylims=(-40, -20), xlims=(minimum(gm.grid), maximum(gm.grid)))\n",
    "\n",
    "        return p\n",
    "    else\n",
    "        return w\n",
    "    end\n",
    "end"
   ]
  },
  {
   "cell_type": "code",
   "execution_count": null,
   "metadata": {
    "collapsed": false
   },
   "outputs": [],
   "source": [
    "gm = GrowthModel()"
   ]
  },
  {
   "cell_type": "code",
   "execution_count": null,
   "metadata": {
    "collapsed": false
   },
   "outputs": [],
   "source": [
    "main(gm, 35)"
   ]
  },
  {
   "cell_type": "code",
   "execution_count": null,
   "metadata": {
    "collapsed": false
   },
   "outputs": [],
   "source": [
    "main(gm, 75)"
   ]
  }
 ],
 "metadata": {
  "anaconda-cloud": {},
  "kernelspec": {
   "display_name": "Julia 0.5.0",
   "language": "julia",
   "name": "julia-0.5"
  },
  "language_info": {
   "file_extension": ".jl",
   "mimetype": "application/julia",
   "name": "julia",
   "version": "0.5.0"
  }
 },
 "nbformat": 4,
 "nbformat_minor": 0
}
